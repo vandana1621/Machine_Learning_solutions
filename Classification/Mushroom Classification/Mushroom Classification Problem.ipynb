{
 "cells": [
  {
   "cell_type": "markdown",
   "metadata": {
    "_uuid": "095e9b30002d444a856847e6178c0fa0d9d62836"
   },
   "source": [
    "Hi, I'm going to apply 6 supervised machine learning classification models and an ANN model on the given dataset to classify mushrooms as poisonous or eatable.\n",
    "1. Logistic Regression\n",
    "2. Support Vector machines (SVC)\n",
    "3. K-Nearest Neighbours(K-NN)\n",
    "4. Naive Bayes classifier\n",
    "5. Decision Tree Classifier\n",
    "6. Random Forest Classifier\n",
    "7. Artificial Neural Networks\n",
    "\n",
    "I'll proceed by converting categorical variables into dummy/indicator variables, then reducing dimensions using Princple Component Analysis to reduce 23 categorical variables (which will become 95 variables after conversion)\n",
    "to only 2 variables (Principle Components) and training different classification models over these two principle components. Finally, I'll visualize the outputs so that decision boundaries of different models can be seen in 2D-plane. Here the preference is not given to accuracy as the goal is to visualize the decision boundaries. For greater accuracy one can choose more than two variables."
   ]
  },
  {
   "cell_type": "markdown",
   "metadata": {
    "_uuid": "cbc9a763442901e25ff9953fb46933aaeed887c8"
   },
   "source": [
    "### Importing the Libraries"
   ]
  },
  {
   "cell_type": "code",
   "execution_count": null,
   "metadata": {
    "_uuid": "7d8a5918e83f66499242e882542dcdc53b1586b2",
    "collapsed": true
   },
   "outputs": [],
   "source": [
    "import numpy as np \n",
    "import pandas as pd\n",
    "import warnings\n",
    "warnings.simplefilter(\"ignore\")\n",
    "import numpy as np\n",
    "import pandas as pd\n",
    "import seaborn as sns\n",
    "import matplotlib.pyplot as plt\n",
    "plt.style.use('ggplot')\n",
    "%matplotlib inline"
   ]
  },
  {
   "cell_type": "markdown",
   "metadata": {
    "_uuid": "d00b94b39bde86e9365a7c96d643cab0b06a4eab"
   },
   "source": [
    "### Importing the Dataset"
   ]
  },
  {
   "cell_type": "code",
   "execution_count": null,
   "metadata": {
    "_uuid": "a87abff39477cf8d90d2f515b4387b191e55b16f",
    "collapsed": true
   },
   "outputs": [],
   "source": [
    "dataset=pd.read_csv(\"../input/mushrooms.csv\")\n",
    "dataset.head()"
   ]
  },
  {
   "cell_type": "markdown",
   "metadata": {
    "_uuid": "ac43bbecc0d055673c06aa3eab944eed051161ed"
   },
   "source": [
    "### Checking for nulls"
   ]
  },
  {
   "cell_type": "code",
   "execution_count": null,
   "metadata": {
    "_uuid": "60aa3aabc793bc6510e35a64d14b62386c529b86",
    "collapsed": true
   },
   "outputs": [],
   "source": [
    "dataset.isnull().sum()"
   ]
  },
  {
   "cell_type": "markdown",
   "metadata": {
    "_uuid": "380f1df734bddb074e515af5b99c8fcc622f8207"
   },
   "source": [
    "### Description of Dataset"
   ]
  },
  {
   "cell_type": "code",
   "execution_count": null,
   "metadata": {
    "_uuid": "5c567134ac27d3bf9434edbb315899fcb85a7925",
    "collapsed": true,
    "scrolled": true
   },
   "outputs": [],
   "source": [
    "dataset.describe()"
   ]
  },
  {
   "cell_type": "markdown",
   "metadata": {
    "_uuid": "5774722a6d8eb16b62d3b036328d02c86133c18b"
   },
   "source": [
    "### Class column is response and rest columns are predictors.\n",
    "### Seprating Predictors and Response"
   ]
  },
  {
   "cell_type": "code",
   "execution_count": null,
   "metadata": {
    "_uuid": "2ac947750a0f38959094823a35ca027818d6910a",
    "collapsed": true,
    "scrolled": true
   },
   "outputs": [],
   "source": [
    "X=dataset.drop('class',axis=1) #Predictors\n",
    "y=dataset['class'] #Response\n",
    "X.head()"
   ]
  },
  {
   "cell_type": "markdown",
   "metadata": {
    "_uuid": "de4d80ee9d6d3daf0aca9481a99c4dd5192f11a5"
   },
   "source": [
    "### Encoding categorical data\n",
    "### Label encoding"
   ]
  },
  {
   "cell_type": "code",
   "execution_count": null,
   "metadata": {
    "_uuid": "3e3008e55e11e0c7133461788a8d734905b70369",
    "collapsed": true
   },
   "outputs": [],
   "source": [
    "from sklearn.preprocessing import LabelEncoder\n",
    "Encoder_X = LabelEncoder() \n",
    "for col in X.columns:\n",
    "    X[col] = Encoder_X.fit_transform(X[col])\n",
    "Encoder_y=LabelEncoder()\n",
    "y = Encoder_y.fit_transform(y)"
   ]
  },
  {
   "cell_type": "code",
   "execution_count": null,
   "metadata": {
    "_uuid": "5ba63dceea9e621e45b5339e21fcafd833ab0bd5",
    "collapsed": true
   },
   "outputs": [],
   "source": [
    "X.head()"
   ]
  },
  {
   "cell_type": "code",
   "execution_count": null,
   "metadata": {
    "_uuid": "604147ecf8102c90a20125c9f70f110143406658",
    "collapsed": true
   },
   "outputs": [],
   "source": [
    "y"
   ]
  },
  {
   "cell_type": "markdown",
   "metadata": {
    "_uuid": "196beada86981a3e89fb5761d38f8dab19388f4a"
   },
   "source": [
    "# Poisonous = 1\n",
    "# Eatable = 0"
   ]
  },
  {
   "cell_type": "markdown",
   "metadata": {
    "_uuid": "525f41fc5bd5757d1bf6317a8d196cd6177383fb"
   },
   "source": [
    "### Getting dummy variables"
   ]
  },
  {
   "cell_type": "code",
   "execution_count": null,
   "metadata": {
    "_uuid": "9840adfbb82d30c7b62f0d7f6d293a2207828bfc",
    "collapsed": true
   },
   "outputs": [],
   "source": [
    "X=pd.get_dummies(X,columns=X.columns,drop_first=True)\n",
    "X.head()"
   ]
  },
  {
   "cell_type": "markdown",
   "metadata": {
    "_uuid": "7e5eb36853fa3aa98292230a26a5b2052c80e8de"
   },
   "source": [
    "### Splitting the dataset into the Training set and Test set"
   ]
  },
  {
   "cell_type": "code",
   "execution_count": null,
   "metadata": {
    "_uuid": "68b6cdbceef5edc29d2c23aee8c55ffeaad58db2",
    "collapsed": true
   },
   "outputs": [],
   "source": [
    "from sklearn.model_selection import train_test_split\n",
    "X_train, X_test, y_train, y_test = train_test_split(X, y, test_size=0.3, random_state=42)"
   ]
  },
  {
   "cell_type": "markdown",
   "metadata": {
    "_uuid": "a09a5e4838f508c4bdd88855759b5acda94c1504"
   },
   "source": [
    "### Feature Scaling"
   ]
  },
  {
   "cell_type": "code",
   "execution_count": null,
   "metadata": {
    "_uuid": "39d2e5cc68fcebecb6828456303acf5dc5ed511e",
    "collapsed": true
   },
   "outputs": [],
   "source": [
    "from sklearn.preprocessing import StandardScaler\n",
    "sc = StandardScaler()\n",
    "\n",
    "X_train = sc.fit_transform(X_train)\n",
    "X_test = sc.transform(X_test)"
   ]
  },
  {
   "cell_type": "markdown",
   "metadata": {
    "_uuid": "0d2816389089b60e9e70269b2cdc24ff9aed22f3"
   },
   "source": [
    "### Applying PCA with  n_components = 2"
   ]
  },
  {
   "cell_type": "code",
   "execution_count": null,
   "metadata": {
    "_uuid": "d620cbc0b6d9f1670b0959daaad0a030c79d1c03",
    "collapsed": true
   },
   "outputs": [],
   "source": [
    "from sklearn.decomposition import PCA\n",
    "pca = PCA(n_components=2)\n",
    "\n",
    "X_train = pca.fit_transform(X_train)\n",
    "X_test = pca.transform(X_test)"
   ]
  },
  {
   "cell_type": "markdown",
   "metadata": {
    "_uuid": "93a8c19d7ba1773e734bc9228ec9d1e9f27ab15f"
   },
   "source": [
    "### Functions to visualize Training & Test Set Results."
   ]
  },
  {
   "cell_type": "code",
   "execution_count": null,
   "metadata": {
    "_uuid": "3b69185b81486aef1728ab6208fe0018181af744",
    "collapsed": true
   },
   "outputs": [],
   "source": [
    "def visualization_train(model):\n",
    "    sns.set_context(context='notebook',font_scale=2)\n",
    "    plt.figure(figsize=(16,9))\n",
    "    from matplotlib.colors import ListedColormap\n",
    "    X_set, y_set = X_train, y_train\n",
    "    X1, X2 = np.meshgrid(np.arange(start = X_set[:, 0].min() - 1, stop = X_set[:, 0].max() + 1, step = 0.01),\n",
    "                     np.arange(start = X_set[:, 1].min() - 1, stop = X_set[:, 1].max() + 1, step = 0.01))\n",
    "    plt.contourf(X1, X2, classifier.predict(np.array([X1.ravel(), X2.ravel()]).T).reshape(X1.shape),\n",
    "             alpha = 0.6, cmap = ListedColormap(('red', 'green')))\n",
    "    plt.xlim(X1.min(), X1.max())\n",
    "    plt.ylim(X2.min(), X2.max())\n",
    "    for i, j in enumerate(np.unique(y_set)):\n",
    "        plt.scatter(X_set[y_set == j, 0], X_set[y_set == j, 1],\n",
    "                    c = ListedColormap(('red', 'green'))(i), label = j)\n",
    "    plt.title(\"%s Training Set\" %(model))\n",
    "    plt.xlabel('PC 1')\n",
    "    plt.ylabel('PC 2')\n",
    "    plt.legend()\n",
    "def visualization_test(model):\n",
    "    sns.set_context(context='notebook',font_scale=2)\n",
    "    plt.figure(figsize=(16,9))\n",
    "    from matplotlib.colors import ListedColormap\n",
    "    X_set, y_set = X_test, y_test\n",
    "    X1, X2 = np.meshgrid(np.arange(start = X_set[:, 0].min() - 1, stop = X_set[:, 0].max() + 1, step = 0.01),\n",
    "                         np.arange(start = X_set[:, 1].min() - 1, stop = X_set[:, 1].max() + 1, step = 0.01))\n",
    "    plt.contourf(X1, X2, classifier.predict(np.array([X1.ravel(), X2.ravel()]).T).reshape(X1.shape),\n",
    "                 alpha = 0.6, cmap = ListedColormap(('red', 'green')))\n",
    "    plt.xlim(X1.min(), X1.max())\n",
    "    plt.ylim(X2.min(), X2.max())\n",
    "    for i, j in enumerate(np.unique(y_set)):\n",
    "        plt.scatter(X_set[y_set == j, 0], X_set[y_set == j, 1],\n",
    "                    c = ListedColormap(('red', 'green'))(i), label = j)\n",
    "    plt.title(\"%s Test Set\" %(model))\n",
    "    plt.xlabel('PC 1')\n",
    "    plt.ylabel('PC 2')\n",
    "    plt.legend()"
   ]
  },
  {
   "cell_type": "markdown",
   "metadata": {
    "_uuid": "a1ac2d98f7dd528a7b028be67311105047a53a0b"
   },
   "source": [
    "# Artificial Neural Networks (ANN)"
   ]
  },
  {
   "cell_type": "code",
   "execution_count": null,
   "metadata": {
    "_uuid": "2cb1389bb2e94aae9798bfd054e67c320aa045e1",
    "collapsed": true
   },
   "outputs": [],
   "source": [
    "import keras\n",
    "from keras.models import Sequential\n",
    "from keras.layers import Dense"
   ]
  },
  {
   "cell_type": "markdown",
   "metadata": {
    "_uuid": "b25cc356cbd972505e4c362445f0fde1a873eadf"
   },
   "source": [
    "## Initializing ANN"
   ]
  },
  {
   "cell_type": "code",
   "execution_count": null,
   "metadata": {
    "_uuid": "fb20f5b6b6551daeb1075b44ec3c38e04ae60460",
    "collapsed": true
   },
   "outputs": [],
   "source": [
    "classifier = Sequential()"
   ]
  },
  {
   "cell_type": "markdown",
   "metadata": {
    "_uuid": "7238e9b2bdd0f6cb6e84111470445b492184a142"
   },
   "source": [
    "## Adding Layers"
   ]
  },
  {
   "cell_type": "code",
   "execution_count": null,
   "metadata": {
    "_uuid": "f2f1cec8499814b9dac1982a4ae23c0af13d3001",
    "collapsed": true
   },
   "outputs": [],
   "source": [
    "classifier.add(Dense(8, kernel_initializer='uniform', activation= 'relu', input_dim = 2))\n",
    "classifier.add(Dense(6, kernel_initializer='uniform', activation= 'relu'))\n",
    "classifier.add(Dense(5, kernel_initializer='uniform', activation= 'relu'))\n",
    "classifier.add(Dense(4, kernel_initializer='uniform', activation= 'relu'))\n",
    "classifier.add(Dense(1, kernel_initializer= 'uniform', activation= 'sigmoid'))\n",
    "classifier.compile(optimizer= 'adam',loss='binary_crossentropy', metrics=['accuracy'])"
   ]
  },
  {
   "cell_type": "markdown",
   "metadata": {
    "_uuid": "1e8f2468629213b1096ce94d8b4a262bf9332468"
   },
   "source": [
    "## Fitting ANN to Training Set"
   ]
  },
  {
   "cell_type": "code",
   "execution_count": null,
   "metadata": {
    "_uuid": "ab6aa04e548c7ea47608e85a7a9e8a2dd77072b3",
    "collapsed": true
   },
   "outputs": [],
   "source": [
    "classifier.fit(X_train,y_train,batch_size=10,epochs=100)"
   ]
  },
  {
   "cell_type": "markdown",
   "metadata": {
    "_uuid": "f35b373af1e0c448222aee27408d0941a2bc7ad8"
   },
   "source": [
    "## Predicting the Test Set Results"
   ]
  },
  {
   "cell_type": "code",
   "execution_count": null,
   "metadata": {
    "_uuid": "1ab61fb37d807d46694e560862aef5af4dbe88bd",
    "collapsed": true
   },
   "outputs": [],
   "source": [
    "y_pred=classifier.predict(X_test)\n",
    "y_pred=(y_pred>0.5)"
   ]
  },
  {
   "cell_type": "markdown",
   "metadata": {
    "_uuid": "c5cab0f7c827396e6c998ba03c26eb22eecb7da6"
   },
   "source": [
    "## Confusion Matrix"
   ]
  },
  {
   "cell_type": "code",
   "execution_count": null,
   "metadata": {
    "_uuid": "10adb3073d2d6e38a6abfdbe5d72320948f06887",
    "collapsed": true
   },
   "outputs": [],
   "source": [
    "from sklearn.metrics import confusion_matrix,classification_report\n",
    "print(confusion_matrix(y_test, y_pred))"
   ]
  },
  {
   "cell_type": "markdown",
   "metadata": {
    "_uuid": "213edb1934df5ea9ac5c82c4b81400ae3402c724"
   },
   "source": [
    "## Classification Report"
   ]
  },
  {
   "cell_type": "code",
   "execution_count": null,
   "metadata": {
    "_uuid": "706e44c8fd0c686169eeb96c683fe614bf2b01d3",
    "collapsed": true
   },
   "outputs": [],
   "source": [
    "print(classification_report(y_test, y_pred))"
   ]
  },
  {
   "cell_type": "markdown",
   "metadata": {
    "_uuid": "ecacc14152403dabdbf1dd692cc37df02c14e41c"
   },
   "source": [
    "## Visualizing ANN Training Set results"
   ]
  },
  {
   "cell_type": "code",
   "execution_count": null,
   "metadata": {
    "_uuid": "aac6ffd19945bb7e8d364b123c315f4f1c6445e1",
    "collapsed": true
   },
   "outputs": [],
   "source": [
    "visualization_train(model='ANN')"
   ]
  },
  {
   "cell_type": "markdown",
   "metadata": {
    "_uuid": "313d1929df994348d986821c233f48bb1fe75b69"
   },
   "source": [
    "## Visualizing ANN Test Set results"
   ]
  },
  {
   "cell_type": "code",
   "execution_count": null,
   "metadata": {
    "_uuid": "a8e0c6c94403eaba6ca1bb22894c91ed32c1723b",
    "collapsed": true
   },
   "outputs": [],
   "source": [
    "visualization_test(model='ANN')"
   ]
  },
  {
   "cell_type": "markdown",
   "metadata": {
    "_uuid": "2fd04508f16e8ace3893af0c45b878e3ae8b3057"
   },
   "source": [
    "### Creating a func to evaluate model's performance."
   ]
  },
  {
   "cell_type": "code",
   "execution_count": null,
   "metadata": {
    "_uuid": "d0d060f628d5e747204438070c2093d6b26318ba",
    "collapsed": true
   },
   "outputs": [],
   "source": [
    "from sklearn.model_selection import cross_val_predict, cross_val_score\n",
    "from sklearn.metrics import confusion_matrix,classification_report,accuracy_score"
   ]
  },
  {
   "cell_type": "code",
   "execution_count": null,
   "metadata": {
    "_uuid": "f4ef1747da2bbd280e00ecf6955f052d1650aff6",
    "collapsed": true
   },
   "outputs": [],
   "source": [
    "def print_score(classifier,X_train,y_train,X_test,y_test,train=True):\n",
    "    if train == True:\n",
    "        print(\"Training results:\\n\")\n",
    "        print('Accuracy Score: {0:.4f}\\n'.format(accuracy_score(y_train,classifier.predict(X_train))))\n",
    "        print('Classification Report:\\n{}\\n'.format(classification_report(y_train,classifier.predict(X_train))))\n",
    "        print('Confusion Matrix:\\n{}\\n'.format(confusion_matrix(y_train,classifier.predict(X_train))))\n",
    "        res = cross_val_score(classifier, X_train, y_train, cv=10, n_jobs=-1, scoring='accuracy')\n",
    "        print('Average Accuracy:\\t{0:.4f}\\n'.format(res.mean()))\n",
    "        print('Standard Deviation:\\t{0:.4f}'.format(res.std()))\n",
    "    elif train == False:\n",
    "        print(\"Test results:\\n\")\n",
    "        print('Accuracy Score: {0:.4f}\\n'.format(accuracy_score(y_test,classifier.predict(X_test))))\n",
    "        print('Classification Report:\\n{}\\n'.format(classification_report(y_test,classifier.predict(X_test))))\n",
    "        print('Confusion Matrix:\\n{}\\n'.format(confusion_matrix(y_test,classifier.predict(X_test))))"
   ]
  },
  {
   "cell_type": "markdown",
   "metadata": {
    "_uuid": "dd139a7b50581fbb942c52d46203c8bd2239d410"
   },
   "source": []
  },
  {
   "cell_type": "markdown",
   "metadata": {
    "_uuid": "27b0ac971f327640ad68010d6575be4a8c717bd1"
   },
   "source": [
    "# Logistic Regression Model\n",
    "## Fitting Logistic Regression model to the Training set"
   ]
  },
  {
   "cell_type": "code",
   "execution_count": null,
   "metadata": {
    "_uuid": "7e8350b4a0d5a1032f4ee1007301275ce6bf1743",
    "collapsed": true
   },
   "outputs": [],
   "source": [
    "from sklearn.linear_model import LogisticRegression\n",
    "classifier = LogisticRegression()\n",
    "\n",
    "classifier.fit(X_train,y_train)"
   ]
  },
  {
   "cell_type": "markdown",
   "metadata": {
    "_uuid": "11b2f9eeff36691031e4252c565064ffbae2856a"
   },
   "source": [
    "## Logistic Regression Training Results"
   ]
  },
  {
   "cell_type": "code",
   "execution_count": null,
   "metadata": {
    "_uuid": "6af90be2dd22d72080ae5e849bf7a4afb22c12ce",
    "collapsed": true
   },
   "outputs": [],
   "source": [
    "print_score(classifier,X_train,y_train,X_test,y_test,train=True)"
   ]
  },
  {
   "cell_type": "markdown",
   "metadata": {
    "_uuid": "ed51869506a0499f413e879445e1ef9ae4c89afb"
   },
   "source": [
    "## Logistic Regression Test Results"
   ]
  },
  {
   "cell_type": "code",
   "execution_count": null,
   "metadata": {
    "_uuid": "13993dce5b39782c53f03982887ef348e88218a7",
    "collapsed": true
   },
   "outputs": [],
   "source": [
    "print_score(classifier,X_train,y_train,X_test,y_test,train=False)"
   ]
  },
  {
   "cell_type": "markdown",
   "metadata": {
    "_uuid": "3508173f02666aff182a0b67a2952a938fab2576"
   },
   "source": [
    "## Visualising the Logistic Regression Training set results"
   ]
  },
  {
   "cell_type": "code",
   "execution_count": null,
   "metadata": {
    "_uuid": "e32c262d82dfe04f3fd77651cbea8ac2d661594c",
    "collapsed": true
   },
   "outputs": [],
   "source": [
    "visualization_train('Logistic Reg')"
   ]
  },
  {
   "cell_type": "markdown",
   "metadata": {
    "_uuid": "2982c8bdd3abfdb032df71965c65d70f8fe06532"
   },
   "source": [
    "## Visualising the Logistic Regression Test set results"
   ]
  },
  {
   "cell_type": "code",
   "execution_count": null,
   "metadata": {
    "_uuid": "a55be1fcd36b2091d585dd39cf1ce711f3b7c920",
    "collapsed": true
   },
   "outputs": [],
   "source": [
    "visualization_test('Logistic Reg')"
   ]
  },
  {
   "cell_type": "markdown",
   "metadata": {
    "_uuid": "964e4333b530cb85f2f4895c12016f3f229bc660"
   },
   "source": []
  },
  {
   "cell_type": "markdown",
   "metadata": {
    "_uuid": "a05545052ffd8e2d9568e759a59614bd4facb563"
   },
   "source": [
    "# Support Vecor (SVC) Classification Model\n",
    "## Fitting SVC to the Training set"
   ]
  },
  {
   "cell_type": "code",
   "execution_count": null,
   "metadata": {
    "_uuid": "6f3881eddd1f42a3367b0e6e402c4cbaa13d98c2",
    "collapsed": true
   },
   "outputs": [],
   "source": [
    "from sklearn.svm import SVC\n",
    "classifier = SVC(kernel='rbf',random_state=42)\n",
    "\n",
    "classifier.fit(X_train,y_train)"
   ]
  },
  {
   "cell_type": "markdown",
   "metadata": {
    "_uuid": "ef87ecddf5502a57ad61d05a748aa404921a78ae"
   },
   "source": [
    "## SVC Training Results"
   ]
  },
  {
   "cell_type": "code",
   "execution_count": null,
   "metadata": {
    "_uuid": "030b1040ddc69ed9cc07be24fdb1703c734344eb",
    "collapsed": true
   },
   "outputs": [],
   "source": [
    "print_score(classifier,X_train,y_train,X_test,y_test,train=True)"
   ]
  },
  {
   "cell_type": "markdown",
   "metadata": {
    "_uuid": "f558328bb6759e268382040109188cb7bdb249eb"
   },
   "source": [
    "## SVC Test Results"
   ]
  },
  {
   "cell_type": "code",
   "execution_count": null,
   "metadata": {
    "_uuid": "bbf33d788135058c2a4414126cbf38b03edcde1b",
    "collapsed": true
   },
   "outputs": [],
   "source": [
    "print_score(classifier,X_train,y_train,X_test,y_test,train=False)"
   ]
  },
  {
   "cell_type": "markdown",
   "metadata": {
    "_uuid": "cce3c7b1e310ad5be96169e6d037889b35ab325e"
   },
   "source": [
    "## Visualising the SVC Training set results"
   ]
  },
  {
   "cell_type": "code",
   "execution_count": null,
   "metadata": {
    "_uuid": "23569f73d75b111cd73b4ed3d9bc55370dff794f",
    "collapsed": true,
    "scrolled": false
   },
   "outputs": [],
   "source": [
    "visualization_train('SVC')"
   ]
  },
  {
   "cell_type": "markdown",
   "metadata": {
    "_uuid": "26e14ed064b1f5ba803e529568ccc802bc42cb69"
   },
   "source": [
    "## Visualising the SVC Test set results"
   ]
  },
  {
   "cell_type": "code",
   "execution_count": null,
   "metadata": {
    "_uuid": "9d64aadd3ca6e81f43062af5fdfcdf36ea90a885",
    "collapsed": true
   },
   "outputs": [],
   "source": [
    "visualization_test('SVC')"
   ]
  },
  {
   "cell_type": "markdown",
   "metadata": {
    "_uuid": "72d36790e1f969d42fc7d644febc77c8786b6a9b"
   },
   "source": []
  },
  {
   "cell_type": "markdown",
   "metadata": {
    "_uuid": "6caeb1c6999c7be819deb4ee1a1c6ce46a940f65"
   },
   "source": [
    "# K Nearest Neighbors (K-NN) Classification Model\n",
    "## Fitting K-NN to the Training set"
   ]
  },
  {
   "cell_type": "code",
   "execution_count": null,
   "metadata": {
    "_uuid": "319e905f624aa0765e56f4fce1f6043b260f95ef",
    "collapsed": true
   },
   "outputs": [],
   "source": [
    "from sklearn.neighbors import KNeighborsClassifier as KNN\n",
    "\n",
    "classifier = KNN()\n",
    "classifier.fit(X_train,y_train)"
   ]
  },
  {
   "cell_type": "markdown",
   "metadata": {
    "_uuid": "97187612d52aea7b4bc4d7f80a531f6c2dd2676b"
   },
   "source": [
    "## K-NN Training  Results"
   ]
  },
  {
   "cell_type": "code",
   "execution_count": null,
   "metadata": {
    "_uuid": "c90f95898857033da50695ec6e54c755ebfe6ce2",
    "collapsed": true
   },
   "outputs": [],
   "source": [
    "print_score(classifier,X_train,y_train,X_test,y_test,train=True)"
   ]
  },
  {
   "cell_type": "markdown",
   "metadata": {
    "_uuid": "d56f028a9bc5cb713509cdcbfe1349b3e8971d8b"
   },
   "source": [
    "## K-NN Test Results"
   ]
  },
  {
   "cell_type": "code",
   "execution_count": null,
   "metadata": {
    "_uuid": "25e6dedd0306d98a0a552cacca9b4f0ac7a54231",
    "collapsed": true
   },
   "outputs": [],
   "source": [
    "print_score(classifier,X_train,y_train,X_test,y_test,train=False)"
   ]
  },
  {
   "cell_type": "markdown",
   "metadata": {
    "_uuid": "79e42434493e9b52808d49a7031d1f92afc4ea79"
   },
   "source": [
    "## Visualising the K-NN Training set results"
   ]
  },
  {
   "cell_type": "code",
   "execution_count": null,
   "metadata": {
    "_uuid": "32da3c06faf42e64ed2d9db51ce72b24c7434842",
    "collapsed": true
   },
   "outputs": [],
   "source": [
    "visualization_train('K-NN')"
   ]
  },
  {
   "cell_type": "markdown",
   "metadata": {
    "_uuid": "3aaed41fdff158853832b1d3016627eb9d01e145"
   },
   "source": [
    "## Visualising the K-NN Test set results"
   ]
  },
  {
   "cell_type": "code",
   "execution_count": null,
   "metadata": {
    "_uuid": "f9ab7fba729ffcd30a0b6fad80eec0a1eaf89f28",
    "collapsed": true
   },
   "outputs": [],
   "source": [
    "visualization_test('K-NN')"
   ]
  },
  {
   "cell_type": "markdown",
   "metadata": {
    "_uuid": "d41d946394e82efcee6f1c8bfdc9f1718672ecec"
   },
   "source": []
  },
  {
   "cell_type": "markdown",
   "metadata": {
    "_uuid": "a950e9fa5054edda6ba2f6c41273260e40b9d777"
   },
   "source": [
    "# Naive Bayes Classification Model\n",
    "## Fitting Naive Bayes classifier to the Training set"
   ]
  },
  {
   "cell_type": "code",
   "execution_count": null,
   "metadata": {
    "_uuid": "21bc9c8aa2052c227e1190658820f462bed660a6",
    "collapsed": true
   },
   "outputs": [],
   "source": [
    "from sklearn.naive_bayes import GaussianNB as NB\n",
    "\n",
    "classifier = NB()\n",
    "classifier.fit(X_train,y_train)"
   ]
  },
  {
   "cell_type": "markdown",
   "metadata": {
    "_uuid": "bd73ca96b0f7501dbc805bde5793a715c09cc610"
   },
   "source": [
    "## Naive Bayes Training Results"
   ]
  },
  {
   "cell_type": "code",
   "execution_count": null,
   "metadata": {
    "_uuid": "1af033a4e606f9006561312b2a711c93a9a76838",
    "collapsed": true
   },
   "outputs": [],
   "source": [
    "print_score(classifier,X_train,y_train,X_test,y_test,train=True)"
   ]
  },
  {
   "cell_type": "markdown",
   "metadata": {
    "_uuid": "8c32a0c036e2654fb037496b7e4dfb3f425cc328"
   },
   "source": [
    "## Naive Bayes Test Results"
   ]
  },
  {
   "cell_type": "code",
   "execution_count": null,
   "metadata": {
    "_uuid": "3949caa081503ac3a6177e14e7e062971016311e",
    "collapsed": true
   },
   "outputs": [],
   "source": [
    "print_score(classifier,X_train,y_train,X_test,y_test,train=False)"
   ]
  },
  {
   "cell_type": "markdown",
   "metadata": {
    "_uuid": "9cd36074966963470ac4c1c285c6bd71ad19232f"
   },
   "source": [
    "## Visualising the Naive Bayes Training set results"
   ]
  },
  {
   "cell_type": "code",
   "execution_count": null,
   "metadata": {
    "_uuid": "5a4f5efeec6894781b6122b9e9aa87cf3251994e",
    "collapsed": true
   },
   "outputs": [],
   "source": [
    "visualization_train('Naive Bayes')"
   ]
  },
  {
   "cell_type": "markdown",
   "metadata": {
    "_uuid": "e2bb56c12297a2282e9b2c0efb057e8ea4e259db"
   },
   "source": [
    "## Visualising the Naive bayes Test set results"
   ]
  },
  {
   "cell_type": "code",
   "execution_count": null,
   "metadata": {
    "_uuid": "00c276031fb82df7e9a1ac2628f260b4cae818e3",
    "collapsed": true
   },
   "outputs": [],
   "source": [
    "visualization_test('Naive Bayes')"
   ]
  },
  {
   "cell_type": "markdown",
   "metadata": {
    "_uuid": "692b346237b14f244c935f274bb05104d7a1742f"
   },
   "source": []
  },
  {
   "cell_type": "markdown",
   "metadata": {
    "_uuid": "da225bf48dfdda97e1b5854dc912c9bb517ccccb"
   },
   "source": [
    "# Decision Tree Classification Model\n",
    "## Fitting Decision Tree classifier to the Training set"
   ]
  },
  {
   "cell_type": "code",
   "execution_count": null,
   "metadata": {
    "_uuid": "f5538a96c70d2e0b2973265dea3be978a253a191",
    "collapsed": true
   },
   "outputs": [],
   "source": [
    "from sklearn.tree import DecisionTreeClassifier as DT\n",
    "\n",
    "classifier = DT(criterion='entropy',random_state=42)\n",
    "classifier.fit(X_train,y_train)"
   ]
  },
  {
   "cell_type": "markdown",
   "metadata": {
    "_uuid": "137d53173527041b04d3390fbef88dbceb4940ff"
   },
   "source": [
    "## Decision Tree Training Results"
   ]
  },
  {
   "cell_type": "code",
   "execution_count": null,
   "metadata": {
    "_uuid": "0a7d5addcac56263a164b36faf2e7b31a1220ab7",
    "collapsed": true
   },
   "outputs": [],
   "source": [
    "print_score(classifier,X_train,y_train,X_test,y_test,train=True)"
   ]
  },
  {
   "cell_type": "markdown",
   "metadata": {
    "_uuid": "26b0ac3096c77bbfdb0ce3fba7f69550a708b5b6"
   },
   "source": [
    "## Decision Tree Test Results"
   ]
  },
  {
   "cell_type": "code",
   "execution_count": null,
   "metadata": {
    "_uuid": "49cfb186155633c6e4ee40cb43a056f7abfb4348",
    "collapsed": true
   },
   "outputs": [],
   "source": [
    "print_score(classifier,X_train,y_train,X_test,y_test,train=False)"
   ]
  },
  {
   "cell_type": "markdown",
   "metadata": {
    "_uuid": "d18868f5704ee39bc09f04093c206fc8ea1fe0de"
   },
   "source": [
    "## Visualising the Decision tree Training set results"
   ]
  },
  {
   "cell_type": "code",
   "execution_count": null,
   "metadata": {
    "_uuid": "377745361d3414611152163a648176fc19ac97da",
    "collapsed": true
   },
   "outputs": [],
   "source": [
    "visualization_train('Decision Tree')"
   ]
  },
  {
   "cell_type": "markdown",
   "metadata": {
    "_uuid": "2ed651367b2fd654d91f64c439595a1c2c09aefa"
   },
   "source": [
    "## Visualising the Decision Tree Test set results"
   ]
  },
  {
   "cell_type": "code",
   "execution_count": null,
   "metadata": {
    "_uuid": "198c70ac8b17d1a224cf6d3ca17c4043ed7772cb",
    "collapsed": true
   },
   "outputs": [],
   "source": [
    "visualization_test('Decision Tree')"
   ]
  },
  {
   "cell_type": "markdown",
   "metadata": {
    "_uuid": "29578311fd810a4e715421885eda79207b2f05da"
   },
   "source": []
  },
  {
   "cell_type": "markdown",
   "metadata": {
    "_uuid": "e1fea8f9c8445239390a77e749691566f4f2918d"
   },
   "source": [
    "# Random Forest Classification Model\n",
    "## Fitting Random Forest classifier to the Training set"
   ]
  },
  {
   "cell_type": "code",
   "execution_count": null,
   "metadata": {
    "_uuid": "6992b2b265bb441d6a4874289c255ab7c58948b9",
    "collapsed": true
   },
   "outputs": [],
   "source": [
    "from sklearn.ensemble import RandomForestClassifier\n",
    "classifier = RandomForestClassifier(n_estimators = 50, criterion = 'entropy', random_state = 42)\n",
    "classifier.fit(X_train, y_train)"
   ]
  },
  {
   "cell_type": "markdown",
   "metadata": {
    "_uuid": "0cd3242690769cf34166c3b8ecc0ac57246e5ad6"
   },
   "source": [
    "## Random Forest Training Results"
   ]
  },
  {
   "cell_type": "code",
   "execution_count": null,
   "metadata": {
    "_uuid": "8e56ca7f1ea247a3229130e3f35e5166a73b5bf0",
    "collapsed": true
   },
   "outputs": [],
   "source": [
    "print_score(classifier,X_train,y_train,X_test,y_test,train=True)"
   ]
  },
  {
   "cell_type": "markdown",
   "metadata": {
    "_uuid": "3140e3629fc35bb1c2d25d49fb7f1c989dfd66ed"
   },
   "source": [
    "## Random Forest Test Results"
   ]
  },
  {
   "cell_type": "code",
   "execution_count": null,
   "metadata": {
    "_uuid": "455e6f8bda966f3f8207cccc62056066945e28a5",
    "collapsed": true
   },
   "outputs": [],
   "source": [
    "print_score(classifier,X_train,y_train,X_test,y_test,train=False)"
   ]
  },
  {
   "cell_type": "markdown",
   "metadata": {
    "_uuid": "aaefebc971bf17b3e373f166b4056a05b0bdb3ce"
   },
   "source": [
    "## Visualising the Random Forest Training set results"
   ]
  },
  {
   "cell_type": "code",
   "execution_count": null,
   "metadata": {
    "_uuid": "8c63deba737d374fff84a77c349a07b8578e0ac4",
    "collapsed": true
   },
   "outputs": [],
   "source": [
    "visualization_train('Random Forest')"
   ]
  },
  {
   "cell_type": "markdown",
   "metadata": {
    "_uuid": "3e2550684d2a88d45c9da8968c997c6fe166d3d6"
   },
   "source": [
    "## Visualising the Random Forest Test set results"
   ]
  },
  {
   "cell_type": "code",
   "execution_count": null,
   "metadata": {
    "_uuid": "dd629e4ed86de317d1cb0d0c15c56f949435a7bb",
    "collapsed": true
   },
   "outputs": [],
   "source": [
    "visualization_test('Random Forest')"
   ]
  },
  {
   "cell_type": "markdown",
   "metadata": {
    "_uuid": "ff41edaa332a091dba381ed04e6b1f9e3fc3bbeb"
   },
   "source": []
  },
  {
   "cell_type": "markdown",
   "metadata": {
    "_uuid": "74ad8dcbc644eee81f750a4db85ac1ab543ea120"
   },
   "source": [
    "# Results :\n",
    "| Classifier | Logistic Reg| SVC | K-NN | Naive Bayes | Decision Tree | Random Forest |\n",
    "| --- | --- | --- | --- | --- | --- | --- |\n",
    "| Train accuracy score | 0.9057 | 0.9289 | 0.9430 | 0.8980 | 1.0000 | 0.9991 |\n",
    "| Average accuracy score | 0.9057 | 0.9281 | 0.9314 | 0.8982 | 0.8920 | 0.9288 |\n",
    "| SD | 0.0097 | 0.0112 | 0.0097 | 0.0114 | 0.0128 | 0.0106 |\n",
    "| Test accuary score | 0.9028 | 0.9258 | 0.9307 | 0.8966 | 0.9016 | 0.9295 |"
   ]
  }
 ],
 "metadata": {
  "kernelspec": {
   "display_name": "Python 3",
   "language": "python",
   "name": "python3"
  },
  "language_info": {
   "codemirror_mode": {
    "name": "ipython",
    "version": 3
   },
   "file_extension": ".py",
   "mimetype": "text/x-python",
   "name": "python",
   "nbconvert_exporter": "python",
   "pygments_lexer": "ipython3",
   "version": "3.6.0"
  }
 },
 "nbformat": 4,
 "nbformat_minor": 1
}
